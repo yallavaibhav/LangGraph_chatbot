{
 "cells": [
  {
   "cell_type": "markdown",
   "id": "d4da2b0b",
   "metadata": {},
   "source": [
    "### Chatbot using LangGraph with Tools"
   ]
  },
  {
   "cell_type": "code",
   "execution_count": 52,
   "id": "89de872f",
   "metadata": {},
   "outputs": [],
   "source": [
    "from langchain_community.tools import ArxivQueryRun, WikipediaQueryRun\n",
    "from langchain_community.utilities import ArxivAPIWrapper, WikipediaAPIWrapper\n",
    "from langchain_core.messages import HumanMessage, SystemMessage\n",
    "import os\n",
    "from dotenv import load_dotenv\n",
    "load_dotenv()\n",
    "os.environ[\"TAVILY_API_KEY\"] = os.getenv(\"TAVILY_API_KEY\")\n",
    "os.environ[\"GROQ_API_KEY\"] = os.getenv(\"GROQ_API_KEY\")\n",
    "os.environ[\"LANGCHAIN_API_KEY\"] = os.getenv(\"LANGCHAIN_API_KEY\")\n",
    "os.environ[\"LANGCHAIN_TRACING_V2\"] = \"true\"\n",
    "os.environ[\"LANGCHAIN_PROJECT\"] = 'ReAct-Agent'\n"
   ]
  },
  {
   "cell_type": "code",
   "execution_count": 53,
   "id": "6431ebdf",
   "metadata": {},
   "outputs": [
    {
     "name": "stdout",
     "output_type": "stream",
     "text": [
      "arxiv\n"
     ]
    }
   ],
   "source": [
    "api_wrapper_arxiv = ArxivAPIWrapper(top_k_results=2, doc_content_chars_max=500)\n",
    "arxiv = ArxivQueryRun(api_wrapper=api_wrapper_arxiv, description=\"Query arxiv papers\")\n",
    "print(arxiv.name)"
   ]
  },
  {
   "cell_type": "code",
   "execution_count": 54,
   "id": "55b73567",
   "metadata": {},
   "outputs": [
    {
     "data": {
      "text/plain": [
       "\"Published: 2024-07-22\\nTitle: Attention Is All You Need But You Don't Need All Of It For Inference of Large Language Models\\nAuthors: Georgy Tyukin, Gbetondji J-S Dovonon, Jean Kaddour, Pasquale Minervini\\nSummary: The inference demand for LLMs has skyrocketed in recent months, and serving\\nmodels with low latencies remains challenging due to the quadratic input length\\ncomplexity of the attention layers. In this work, we investigate the effect of\\ndropping MLP and attention layers at inference time o\""
      ]
     },
     "execution_count": 54,
     "metadata": {},
     "output_type": "execute_result"
    }
   ],
   "source": [
    "arxiv.invoke(\"Attention all you need\")"
   ]
  },
  {
   "cell_type": "code",
   "execution_count": 55,
   "id": "11a8183f",
   "metadata": {},
   "outputs": [
    {
     "name": "stdout",
     "output_type": "stream",
     "text": [
      "wikipedia\n"
     ]
    }
   ],
   "source": [
    "api_wrapper_wiki = WikipediaAPIWrapper(top_k_results=1, doc_content_chars_max=500)\n",
    "wiki = WikipediaQueryRun(api_wrapper=api_wrapper_wiki, description=\"Query the wiki\")\n",
    "print(wiki.name)"
   ]
  },
  {
   "cell_type": "code",
   "execution_count": 56,
   "id": "92d122d5",
   "metadata": {},
   "outputs": [
    {
     "data": {
      "text/plain": [
       "'Page: Nikola Tesla\\nSummary: Nikola Tesla (10 July 1856 – 7 January 1943) was a Serbian-American engineer, futurist, and inventor. He is known for his contributions to the design of the modern alternating current (AC) electricity supply system.\\nBorn and raised in the Austrian Empire, Tesla first studied engineering and physics in the 1870s without receiving a degree. He then gained practical experience in the early 1880s working in telephony and at Continental Edison in the new electric power ind'"
      ]
     },
     "execution_count": 56,
     "metadata": {},
     "output_type": "execute_result"
    }
   ],
   "source": [
    "wiki.invoke(\"Who is Nikola Tesla the Serbian-American engineer?\")"
   ]
  },
  {
   "cell_type": "code",
   "execution_count": 57,
   "id": "e6da44fc",
   "metadata": {},
   "outputs": [],
   "source": [
    "from langchain_community.tools.tavily_search import TavilySearchResults\n",
    "tavily = TavilySearchResults()"
   ]
  },
  {
   "cell_type": "code",
   "execution_count": 58,
   "id": "73679a99",
   "metadata": {},
   "outputs": [
    {
     "data": {
      "text/plain": [
       "[{'title': 'The latest AI news we announced in June - Google Blog',\n",
       "  'url': 'https://blog.google/technology/ai/google-ai-updates-june-2025/',\n",
       "  'content': '# The latest AI news we announced in June\\n\\nJul 02, 2025\\n\\nHere’s a recap of some of our biggest AI updates from June, including more ways to search with AI Mode, a new way to share your NotebookLM notebooks publicly, and a new AI to help researchers better understand the human genome.\\n\\nSuperG\\n\\n## Basic explainer [...] Search finds new voice, and photos bright,  \\nWhile Chromebooks gain AI\\'s keenest edge,  \\nAnd learning\\'s path is filled with light.\\n\\nGenomes unlock, from knowledge pledge,  \\nAnd robots learn, with vision clear,  \\nWhile cancer\\'s foe meets AI\\'s siege.\\n\\nFrom Google\\'s labs, new AI doth spring,  \\nWith Gemini\\'s models taking flight,  \\nAnd tools for coders, joy to bring.\\n\\nSearch finds new voice, and photos bright,  \\nWhile Chromebooks gain AI\\'s keenest edge,  \\nAnd learning\\'s path is filled with light. [...] a text card reading \"AI to revolutionize scientific discovery\"\\n\\nWe introduced AlphaGenome: AI to better understand the human genome. Our new, unifying DNA sequence model advances regulatory variant-effect prediction and promises to shed new light on genome function. To advance scientific research, we’re making AlphaGenome available in preview via our AlphaGenome API for non-commercial research, with plans to release the model in the future.',\n",
       "  'score': 0.7368747},\n",
       " {'title': 'AI News & Artificial Intelligence | TechCrunch',\n",
       "  'url': 'https://techcrunch.com/category/artificial-intelligence/',\n",
       "  'content': '### Mira Murati’s Thinking Machines Lab is worth $12B in seed round\\n\\ngoogle search app ios\\n\\n### Google Discover adds AI summaries, threatening publishers with further traffic declines\\n\\n### AI coding tools are shifting to a surprising place: The terminal\\n\\nPeople walking in a maze shaped as a brain\\n\\n### Research leaders urge tech industry to monitor AI’s ‘thoughts’\\n\\nThe logo of the French company Mistral AI.\\n\\n### Mistral releases Voxtral, its first open source AI audio model\\n\\nPostgres, ParadeDB [...] Contact Us\\n\\n# AI\\n\\nNews coverage on artificial intelligence and machine learning tech, the companies building them, and the ethical issues AI raises today. This encompasses generative AI, including large language models, text-to-image and text-to-video models; speech recognition and generation; and predictive analytics.\\n\\n### \\n\\nAnthropic Claude logo on mobile\\n\\n### Anthropic tightens usage limits for Claude Code – without telling users [...] OpenAI logo with spiraling pastel colors (Image Credits: Bryce Durbin / TechCrunch)\\n\\n### OpenAI launches a general purpose agent in ChatGPT\\n\\nMistral logo on laptop screen\\n\\n### Mistral’s Le Chat chatbot gets a productivity push with new ‘deep research’ mode\\n\\nJonathan Mortensen, CEO/founder of Confident Security\\n\\n### Confident Security, ‘the Signal for AI,’ comes out of stealth with $4.2M\\n\\nUAE flag flying in front of ocean/skyline\\n\\n### UAE’s deal to buy Nvidia AI chips reportedly on hold',\n",
       "  'score': 0.6932451},\n",
       " {'title': 'Latest AI Breakthroughs and News: May, June, July 2025',\n",
       "  'url': 'https://www.crescendo.ai/news/latest-ai-news-and-updates',\n",
       "  'content': 'Summary: OpenAI launched \"Operator,\" a new AI assistant capable of handling various online tasks, such as ordering groceries and processing ticket purchases.',\n",
       "  'score': 0.6664756},\n",
       " {'title': 'The 2025 AI Index Report | Stanford HAI',\n",
       "  'url': 'https://hai.stanford.edu/ai-index/2025-ai-index-report',\n",
       "  'content': '### 2. AI is increasingly embedded in everyday life.\\n\\nFrom healthcare to transportation, AI is rapidly moving from the lab to daily life. In 2023, the FDA approved 223 AI-enabled medical devices, up from just six in 2015. On the roads, self-driving cars are no longer experimental: Waymo, one of the largest U.S. operators, provides over 150,000 autonomous rides each week, while Baidu’s affordable Apollo Go robotaxi fleet now serves numerous cities across China. [...] Artificial Intelligence has leapt to the forefront of global discourse, garnering increased attention from practitioners, industry leaders, policymakers, and the general public. The diversity of opinions and debates gathered from news articles this year illustrates just how broadly AI is being investigated, studied, and applied. However, the field of AI is still evolving rapidly and even experts have a hard time understanding and tracking progress across the field. [...] Artificial Intelligence has leapt to the forefront of global discourse, garnering increased attention from practitioners, industry leaders, policymakers, and the general public. The diversity of opinions and debates gathered from news articles this year illustrates just how broadly AI is being investigated, studied, and applied. However, the field of AI is still evolving rapidly and even experts have a hard time understanding and tracking progress across the field.',\n",
       "  'score': 0.6342494},\n",
       " {'title': '5 AI Trends Shaping Innovation and ROI in 2025 | Morgan Stanley',\n",
       "  'url': 'https://www.morganstanley.com/insights/articles/ai-trends-reasoning-frontier-models-2025-tmt',\n",
       "  'content': '## 5. Software Companies Set Sights on Agentic AI\\n\\nSoftware executives spoke about their current use of AI for productivity gains in marketing and engineering and their longer-term prospects to gain market share in an agentic computing future. These companies are aiming to create large systems that deploy AI agents to make decisions, take autonomous actions and adapt to changing environments for real-world applications across industries. [...] ## 1. AI Reasoning and Custom Silicon Fuel Demand for Chips\\n\\nAI reasoning is one of the biggest drivers of increasing compute demand, and thus semiconductors, said executives from companies that design and make chips. AI reasoning moves beyond basic understanding and into advanced learning and decision making, which requires additional compute for pre-training, post-training and inference. [...] “Recent AI advancements will harness the power of Jevons Paradox, to drive the long-term demand for AI and further increase the total addressable market for all participants in the ecosystem,” said Dave Chen, Head of Global Technology Investment Banking at Morgan Stanley, referring to the effect when increased efficiency leads to higher overall consumption.\\n\\n## 3. LLMs See Potential in AI Reasoning for Enterprises',\n",
       "  'score': 0.5585443}]"
      ]
     },
     "execution_count": 58,
     "metadata": {},
     "output_type": "execute_result"
    }
   ],
   "source": [
    "tavily.invoke(\"What is the current AI News?\")"
   ]
  },
  {
   "cell_type": "code",
   "execution_count": 59,
   "id": "40b8e9a2",
   "metadata": {},
   "outputs": [],
   "source": [
    "## custom tools\n",
    "def multiply(a:int, b:int)-> int:\n",
    "    \"\"\" Multipy a and b\n",
    "    Args: you will get two numbers\n",
    "    \"\"\"\n",
    "    return a*b"
   ]
  },
  {
   "cell_type": "code",
   "execution_count": 60,
   "id": "c03469d6",
   "metadata": {},
   "outputs": [],
   "source": [
    "#combine all the tools (bind)\n",
    "tools = [wiki, arxiv, tavily, multiply]"
   ]
  },
  {
   "cell_type": "code",
   "execution_count": 61,
   "id": "ec447968",
   "metadata": {},
   "outputs": [],
   "source": [
    "# Initiilize my LLM\n",
    "from langchain_groq import ChatGroq\n",
    "llm = ChatGroq(model=\"qwen/qwen3-32b\")\n",
    "llm_bind_tools = llm.bind_tools(tools=tools)\n"
   ]
  },
  {
   "cell_type": "code",
   "execution_count": 62,
   "id": "12932105",
   "metadata": {},
   "outputs": [
    {
     "data": {
      "text/plain": [
       "AIMessage(content='', additional_kwargs={'reasoning_content': 'Okay, the user is asking for the latest news in AI. Let me see which tool I should use here. The available tools are Wikipedia, arXiv, Tavily Search, and a multiply function. The multiply function is for math operations, so that\\'s not relevant here. Wikipedia might have general information, but it\\'s not the best for the latest news. arXiv is for academic papers, which could be useful for recent research but maybe not the most recent news. Tavily Search is a search tool, so using that with a query like \"latest AI news\" would probably give the most up-to-date results. I should go with Tavily Search to fetch the latest news articles on AI.\\n', 'tool_calls': [{'id': 'zbcd33k9z', 'function': {'arguments': '{\"query\":\"latest AI news\"}', 'name': 'tavily_search_results_json'}, 'type': 'function'}]}, response_metadata={'token_usage': {'completion_tokens': 176, 'prompt_tokens': 322, 'total_tokens': 498, 'completion_time': 0.382754684, 'prompt_time': 0.013458424, 'queue_time': 0.217071438, 'total_time': 0.396213108}, 'model_name': 'qwen/qwen3-32b', 'system_fingerprint': 'fp_f17c2eb555', 'service_tier': 'on_demand', 'finish_reason': 'tool_calls', 'logprobs': None}, id='run--7dd1b714-078e-4e83-b53b-744b3bf8669c-0', tool_calls=[{'name': 'tavily_search_results_json', 'args': {'query': 'latest AI news'}, 'id': 'zbcd33k9z', 'type': 'tool_call'}], usage_metadata={'input_tokens': 322, 'output_tokens': 176, 'total_tokens': 498})"
      ]
     },
     "execution_count": 62,
     "metadata": {},
     "output_type": "execute_result"
    }
   ],
   "source": [
    "llm_bind_tools.invoke(\"What is latest AI news?\")"
   ]
  },
  {
   "cell_type": "code",
   "execution_count": 63,
   "id": "6d451d86",
   "metadata": {},
   "outputs": [
    {
     "data": {
      "text/plain": [
       "[{'name': 'tavily_search_results_json',\n",
       "  'args': {'query': 'latest AI news'},\n",
       "  'id': '0yfzj2k8e',\n",
       "  'type': 'tool_call'}]"
      ]
     },
     "execution_count": 63,
     "metadata": {},
     "output_type": "execute_result"
    }
   ],
   "source": [
    "tool_call = llm_bind_tools.invoke(\"What is latest AI news?\")\n",
    "tool_call.tool_calls"
   ]
  },
  {
   "cell_type": "code",
   "execution_count": 64,
   "id": "1c4d340f",
   "metadata": {},
   "outputs": [
    {
     "data": {
      "text/plain": [
       "<langgraph.graph.state.StateGraph at 0x10c6b1f90>"
      ]
     },
     "execution_count": 64,
     "metadata": {},
     "output_type": "execute_result"
    }
   ],
   "source": [
    "# State session\n",
    "from typing_extensions import TypedDict\n",
    "from langchain_core.messages import AnyMessage\n",
    "from typing import Annotated\n",
    "from langgraph.graph.message import add_messages\n",
    "\n",
    "from IPython.display import Image, display\n",
    "from langgraph.graph import StateGraph, START, END\n",
    "from langgraph.prebuilt import ToolNode\n",
    "from langgraph.prebuilt import tools_condition\n",
    "\n",
    "class State(TypedDict):\n",
    "    messages: Annotated[list[AnyMessage],add_messages]\n",
    "\n",
    "## node creation\n",
    "def llm_calling_tool(state:State):\n",
    "    return {'messages': [llm_bind_tools.invoke(state['messages'])]}\n",
    "\n",
    "## build graph\n",
    "builder = StateGraph(State)\n",
    "builder.add_node('llm_calling_tool',llm_calling_tool)\n",
    "builder.add_node('tools', ToolNode(tools))\n",
    "\n",
    "builder.add_edge(START, 'llm_calling_tool')\n",
    "builder.add_conditional_edges(\"llm_calling_tool\", tools_condition) # either tools or end\n",
    "builder.add_edge('tools', 'llm_calling_tool')\n"
   ]
  },
  {
   "cell_type": "code",
   "execution_count": 65,
   "id": "4e72915c",
   "metadata": {},
   "outputs": [
    {
     "data": {
      "image/png": "[encoded data removed]",
      "text/plain": [
       "<IPython.core.display.Image object>"
      ]
     },
     "metadata": {},
     "output_type": "display_data"
    }
   ],
   "source": [
    "graph  = builder.compile()\n",
    "display(Image(graph.get_graph().draw_mermaid_png()))"
   ]
  },
  {
   "cell_type": "code",
   "execution_count": 45,
   "id": "9725dead",
   "metadata": {},
   "outputs": [
    {
     "name": "stdout",
     "output_type": "stream",
     "text": [
      "================================\u001b[1m Human Message \u001b[0m=================================\n",
      "\n",
      "1706.03762\n",
      "==================================\u001b[1m Ai Message \u001b[0m==================================\n",
      "Tool Calls:\n",
      "  arxiv (d3cfv6rxy)\n",
      " Call ID: d3cfv6rxy\n",
      "  Args:\n",
      "    query: 1706.03762\n",
      "=================================\u001b[1m Tool Message \u001b[0m=================================\n",
      "Name: arxiv\n",
      "\n",
      "Published: 2023-08-02\n",
      "Title: Attention Is All You Need\n",
      "Authors: Ashish Vaswani, Noam Shazeer, Niki Parmar, Jakob Uszkoreit, Llion Jones, Aidan N. Gomez, Lukasz Kaiser, Illia Polosukhin\n",
      "Summary: The dominant sequence transduction models are based on complex recurrent or\n",
      "convolutional neural networks in an encoder-decoder configuration. The best\n",
      "performing models also connect the encoder and decoder through an attention\n",
      "mechanism. We propose a new simple network architecture, the Transformer, base\n",
      "==================================\u001b[1m Ai Message \u001b[0m==================================\n",
      "\n",
      "The paper \"Attention Is All You Need\" (arXiv ID: 1706.03762) is a foundational work introducing the **Transformer architecture**, which revolutionized sequence modeling by replacing recurrent/convolutional layers with **self-attention mechanisms**. Here's a concise breakdown:\n",
      "\n",
      "- **Original Publication**: June 2017 (arXiv submission), later presented at NeurIPS 2017.\n",
      "- **Key Contribution**: The Transformer model, which enables parallel processing of sequences and achieves state-of-the-art results in tasks like machine translation.\n",
      "- **Authors**: Led by Ashish Vaswani, with contributions from Google Brain researchers.\n",
      "- **Why It Matters**: Introduced concepts like multi-head attention, position embeddings, and encoder-decoder architecture, which underpin modern models (e.g., BERT, GPT).\n",
      "\n",
      "The mention of \"Published: 2023-08-02\" in the tool response likely reflects an updated version or metadata error—always refer to the arXiv submission date (2017) as the original release. Let me know if you'd like a deeper dive into specific sections!\n"
     ]
    }
   ],
   "source": [
    "\n",
    "messages = graph.invoke({\"messages\": HumanMessage(content='1706.03762')})\n",
    "for i in messages['messages']:\n",
    "    i.pretty_print()"
   ]
  },
  {
   "cell_type": "code",
   "execution_count": 46,
   "id": "d08a750e",
   "metadata": {},
   "outputs": [
    {
     "name": "stdout",
     "output_type": "stream",
     "text": [
      "================================\u001b[1m Human Message \u001b[0m=================================\n",
      "\n",
      "Provide me the latest AI news\n",
      "==================================\u001b[1m Ai Message \u001b[0m==================================\n",
      "Tool Calls:\n",
      "  tavily_search_results_json (kz9a2bw6b)\n",
      " Call ID: kz9a2bw6b\n",
      "  Args:\n",
      "    query: latest AI news\n",
      "=================================\u001b[1m Tool Message \u001b[0m=================================\n",
      "Name: tavily_search_results_json\n",
      "\n",
      "[{\"title\": \"The latest AI news we announced in June - Google Blog\", \"url\": \"https://blog.google/technology/ai/google-ai-updates-june-2025/\", \"content\": \"# The latest AI news we announced in June\\n\\nJul 02, 2025\\n\\nHere’s a recap of some of our biggest AI updates from June, including more ways to search with AI Mode, a new way to share your NotebookLM notebooks publicly, and a new AI to help researchers better understand the human genome.\\n\\nSuperG\\n\\n## Basic explainer [...] a text card reading \\\"AI to revolutionize scientific discovery\\\"\\n\\nWe introduced AlphaGenome: AI to better understand the human genome. Our new, unifying DNA sequence model advances regulatory variant-effect prediction and promises to shed new light on genome function. To advance scientific research, we’re making AlphaGenome available in preview via our AlphaGenome API for non-commercial research, with plans to release the model in the future. [...] Search finds new voice, and photos bright,  \\nWhile Chromebooks gain AI's keenest edge,  \\nAnd learning's path is filled with light.\\n\\nGenomes unlock, from knowledge pledge,  \\nAnd robots learn, with vision clear,  \\nWhile cancer's foe meets AI's siege.\\n\\nFrom Google's labs, new AI doth spring,  \\nWith Gemini's models taking flight,  \\nAnd tools for coders, joy to bring.\\n\\nSearch finds new voice, and photos bright,  \\nWhile Chromebooks gain AI's keenest edge,  \\nAnd learning's path is filled with light.\", \"score\": 0.8415267}, {\"title\": \"Artificial Intelligence News - ScienceDaily\", \"url\": \"https://www.sciencedaily.com/news/computers_math/artificial_intelligence/\", \"content\": \"ScienceDaily\\n\\n# Artificial Intelligence News\\n\\n## Top Headlines\\n\\n## Latest Headlines\\n\\n## Earlier Headlines\\n\\n### Thursday, May 22, 2025\\n\\n### Wednesday, May 21, 2025\\n\\n### Monday, May 19, 2025\\n\\n### Thursday, May 15, 2025\\n\\n### Wednesday, May 14, 2025\\n\\n### Tuesday, May 13, 2025\\n\\n### Monday, May 12, 2025\\n\\n### Thursday, May 8, 2025\\n\\n### Wednesday, May 7, 2025\\n\\n### Tuesday, May 6, 2025\\n\\n### Monday, May 5, 2025\\n\\n### Thursday, May 1, 2025\\n\\n### Wednesday, April 30, 2025\\n\\n### Monday, April 28, 2025 [...] ### Friday, April 25, 2025\\n\\n### Thursday, April 24, 2025\\n\\n### Wednesday, April 23, 2025\\n\\n### Tuesday, April 22, 2025\\n\\n### Monday, April 21, 2025\\n\\n### Wednesday, April 16, 2025\\n\\n### Tuesday, April 15, 2025\\n\\n### Monday, April 14, 2025\\n\\n### Thursday, April 10, 2025\\n\\n### Wednesday, April 9, 2025\\n\\n### Tuesday, April 8, 2025\\n\\n### Monday, April 7, 2025\\n\\n### Friday, April 4, 2025\\n\\n### Thursday, April 3, 2025\\n\\n### Wednesday, April 2, 2025\\n\\n### Monday, March 31, 2025\\n\\n### Friday, March 28, 2025 [...] ### Thursday, March 27, 2025\\n\\n### Wednesday, March 26, 2025\\n\\n### Tuesday, March 25, 2025\\n\\n### Thursday, March 20, 2025\\n\\n### Wednesday, March 19, 2025\\n\\n### Tuesday, March 18, 2025\\n\\n## Breaking\\n\\n## Trending Topics\\n\\n## Strange & Offbeat\\n\\nStay informed with ScienceDaily's free email newsletter, updated daily and weekly. Or view our many newsfeeds in your RSS reader:\\n\\nKeep up to date with the latest news from ScienceDaily via social networks:\", \"score\": 0.8173562}, {\"title\": \"AI News & Artificial Intelligence | TechCrunch\", \"url\": \"https://techcrunch.com/category/artificial-intelligence/\", \"content\": \"### Mira Murati’s Thinking Machines Lab is worth $12B in seed round\\n\\ngoogle search app ios\\n\\n### Google Discover adds AI summaries, threatening publishers with further traffic declines\\n\\n### AI coding tools are shifting to a surprising place: The terminal\\n\\nPeople walking in a maze shaped as a brain\\n\\n### Research leaders urge tech industry to monitor AI’s ‘thoughts’\\n\\nThe logo of the French company Mistral AI.\\n\\n### Mistral releases Voxtral, its first open source AI audio model\\n\\nPostgres, ParadeDB [...] Contact Us\\n\\n# AI\\n\\nNews coverage on artificial intelligence and machine learning tech, the companies building them, and the ethical issues AI raises today. This encompasses generative AI, including large language models, text-to-image and text-to-video models; speech recognition and generation; and predictive analytics.\\n\\n### \\n\\nAnthropic Claude logo on mobile\\n\\n### Anthropic tightens usage limits for Claude Code – without telling users [...] ### Topics\\n\\nLatest\\n\\nAI\\n\\nAmazon\\n\\nApps\\n\\nBiotech & Health\\n\\nClimate\\n\\nCloud Computing\\n\\nCommerce\\n\\nCrypto\\n\\nEnterprise\\n\\nEVs\\n\\nFintech\\n\\nFundraising\\n\\nGadgets\\n\\nGaming\\n\\nGoogle\\n\\nGovernment & Policy\\n\\nHardware\\n\\nInstagram\\n\\nLayoffs\\n\\nMedia & Entertainment\\n\\nMeta\\n\\nMicrosoft\\n\\nPrivacy\\n\\nRobotics\\n\\nSecurity\\n\\nSocial\\n\\nSpace\\n\\nStartups\\n\\nTikTok\\n\\nTransportation\\n\\nVenture\\n\\n### More from TechCrunch\\n\\nStaff\\n\\nEvents\\n\\nStartup Battlefield\\n\\nStrictlyVC\\n\\nNewsletters\\n\\nPodcasts\\n\\nVideos\\n\\nPartner Content\\n\\nTechCrunch Brand Studio\\n\\nCrunchboard\", \"score\": 0.70823324}, {\"title\": \"Top 11 New Technologies in AI: Exploring the Latest Trends - devabit\", \"url\": \"https://devabit.com/blog/top-11-new-technologies-in-ai-exploring-the-latest-trends/\", \"content\": \"GPT-3.5 and GPT-4 are just the beginning. The pace of AI model development suggests that even more capable language models are on the horizon, with implications for industries ranging from content creation to virtual assistants.\\n\\nOn November 6, 2023, CEO of OpenAI Sam Altman introduced a completely new version of Chat GPT that includes GPTs, Chat GPT Store, GPT-4 Turbo, and other new technologies in AI that we are going to describe in this article. [...] The breakthrough came with the development of deep learning models like GPT. GPT-1, introduced by OpenAI in 2018, marked a significant leap in chatbot capabilities. It could generate contextually relevant text, even though it had limitations. GPT-2, released in 2019, was known for its ability to generate human-like text on a larger scale. However, its release was initially controversial due to concerns about potential misuse. GPT-3, released in 2020, further improved upon its predecessors and [...] At the same time, facial recognition latest AI technology has become highly accurate, with deep learning models achieving near-human performance. It is used in applications like access control, surveillance, and user authentication. Moreover, new technologies in AI are used in order to prevent fraud and gain traction in authentication. Behavioral biometrics like keystroke dynamics and voice recognition can analyze unique patterns in user behavior and increase the security level. In addition,\", \"score\": 0.68140936}, {\"title\": \"The 2025 AI Index Report | Stanford HAI\", \"url\": \"https://hai.stanford.edu/ai-index/2025-ai-index-report\", \"content\": \"### 2. AI is increasingly embedded in everyday life.\\n\\nFrom healthcare to transportation, AI is rapidly moving from the lab to daily life. In 2023, the FDA approved 223 AI-enabled medical devices, up from just six in 2015. On the roads, self-driving cars are no longer experimental: Waymo, one of the largest U.S. operators, provides over 150,000 autonomous rides each week, while Baidu’s affordable Apollo Go robotaxi fleet now serves numerous cities across China. [...] Artificial Intelligence has leapt to the forefront of global discourse, garnering increased attention from practitioners, industry leaders, policymakers, and the general public. The diversity of opinions and debates gathered from news articles this year illustrates just how broadly AI is being investigated, studied, and applied. However, the field of AI is still evolving rapidly and even experts have a hard time understanding and tracking progress across the field. [...] Artificial Intelligence has leapt to the forefront of global discourse, garnering increased attention from practitioners, industry leaders, policymakers, and the general public. The diversity of opinions and debates gathered from news articles this year illustrates just how broadly AI is being investigated, studied, and applied. However, the field of AI is still evolving rapidly and even experts have a hard time understanding and tracking progress across the field.\", \"score\": 0.6675167}]\n",
      "==================================\u001b[1m Ai Message \u001b[0m==================================\n",
      "\n",
      "Here's a summary of the latest AI news based on the search results:\n",
      "\n",
      "1. **Google's June 2025 AI Updates**  \n",
      "   - **AlphaGenome**: Google introduced AlphaGenome, a DNA sequence model designed to advance regulatory variant-effect prediction and genomic research. It's available via a preview API for non-commercial research.  \n",
      "   - **AI Mode Enhancements**: New features for AI-powered search, including improved voice and photo search capabilities.  \n",
      "   - **NotebookLM Sharing**: A new way to publicly share AI-generated notebooks for collaboration.  \n",
      "   - **Robotics & Healthcare**: AI applications in robotics and cancer research were highlighted as key areas of progress.\n",
      "\n",
      "2. **Tech Industry Trends**  \n",
      "   - **Mira Murati’s Lab**: The Thinking Machines Lab secured a $12B seed round, signaling major investments in AI infrastructure.  \n",
      "   - **Open Source Models**: Mistral AI released *Voxtral*, an open-source audio model, expanding access to AI-driven audio generation.  \n",
      "\n",
      "3. **Ethical & Research Focus**  \n",
      "   - **AI Safety**: Research leaders are urging the tech industry to monitor AI \"thoughts\" to address ethical concerns.  \n",
      "   - **Stanford AI Index Report**: Highlights AI’s growing integration into healthcare, autonomous vehicles, and policy debates.\n",
      "\n",
      "For more details, explore the full articles on the [Google Blog](https://blog.google/technology/ai/google-ai-updates-june-2025/) or the [Stanford AI Index Report](https://hai.stanford.edu/ai-index/2025-ai-index-report).\n"
     ]
    }
   ],
   "source": [
    "messages = graph.invoke({\"messages\": HumanMessage(content='Provide me the latest AI news')})\n",
    "for i in messages['messages']:\n",
    "    i.pretty_print()"
   ]
  },
  {
   "cell_type": "code",
   "execution_count": 67,
   "id": "7199e0f5",
   "metadata": {},
   "outputs": [
    {
     "name": "stdout",
     "output_type": "stream",
     "text": [
      "================================\u001b[1m Human Message \u001b[0m=================================\n",
      "\n",
      "Ai news today and also multiply 5 and 4\n",
      "==================================\u001b[1m Ai Message \u001b[0m==================================\n",
      "Tool Calls:\n",
      "  tavily_search_results_json (gw7bgasnn)\n",
      " Call ID: gw7bgasnn\n",
      "  Args:\n",
      "    query: AI news today\n",
      "  multiply (kzeb8wmgm)\n",
      " Call ID: kzeb8wmgm\n",
      "  Args:\n",
      "    a: 5\n",
      "    b: 4\n",
      "=================================\u001b[1m Tool Message \u001b[0m=================================\n",
      "Name: tavily_search_results_json\n",
      "\n",
      "[{\"title\": \"AI News & Artificial Intelligence | TechCrunch\", \"url\": \"https://techcrunch.com/category/artificial-intelligence/\", \"content\": \"Contact Us\\n\\n# AI\\n\\nNews coverage on artificial intelligence and machine learning tech, the companies building them, and the ethical issues AI raises today. This encompasses generative AI, including large language models, text-to-image and text-to-video models; speech recognition and generation; and predictive analytics.\\n\\n### \\n\\nAnthropic Claude logo on mobile\\n\\n### Anthropic tightens usage limits for Claude Code – without telling users [...] ### ParadeDB takes on Elasticsearch as interest in Postgres explodes amid AI boom\\n\\nThe Grok app on a smartphone\\n\\n### xAI says it has fixed Grok 4’s problematic responses\\n\\nTechCrunch Early Stage 2024 audience\\n\\n### TechCrunch All Stage launches in Boston today — don’t miss what founders are learning\\n\\nNextdoor app on laptop and mobile\\n\\n### Nextdoor redesigns app with AI recommendations, local news, and real-time emergency alerts\\n\\nMark Zuckerberg photo with Meta logo overlay [...] ### Mira Murati’s Thinking Machines Lab is worth $12B in seed round\\n\\ngoogle search app ios\\n\\n### Google Discover adds AI summaries, threatening publishers with further traffic declines\\n\\n### AI coding tools are shifting to a surprising place: The terminal\\n\\nPeople walking in a maze shaped as a brain\\n\\n### Research leaders urge tech industry to monitor AI’s ‘thoughts’\\n\\nThe logo of the French company Mistral AI.\\n\\n### Mistral releases Voxtral, its first open source AI audio model\\n\\nPostgres, ParadeDB\", \"score\": 0.7795405}, {\"title\": \"Artificial Intelligence News - ScienceDaily\", \"url\": \"https://www.sciencedaily.com/news/computers_math/artificial_intelligence/\", \"content\": \"ScienceDaily\\n\\n# Artificial Intelligence News\\n\\n## Top Headlines\\n\\n## Latest Headlines\\n\\n## Earlier Headlines\\n\\n### Thursday, May 22, 2025\\n\\n### Wednesday, May 21, 2025\\n\\n### Monday, May 19, 2025\\n\\n### Thursday, May 15, 2025\\n\\n### Wednesday, May 14, 2025\\n\\n### Tuesday, May 13, 2025\\n\\n### Monday, May 12, 2025\\n\\n### Thursday, May 8, 2025\\n\\n### Wednesday, May 7, 2025\\n\\n### Tuesday, May 6, 2025\\n\\n### Monday, May 5, 2025\\n\\n### Thursday, May 1, 2025\\n\\n### Wednesday, April 30, 2025\\n\\n### Monday, April 28, 2025 [...] ### Friday, April 25, 2025\\n\\n### Thursday, April 24, 2025\\n\\n### Wednesday, April 23, 2025\\n\\n### Tuesday, April 22, 2025\\n\\n### Monday, April 21, 2025\\n\\n### Wednesday, April 16, 2025\\n\\n### Tuesday, April 15, 2025\\n\\n### Monday, April 14, 2025\\n\\n### Thursday, April 10, 2025\\n\\n### Wednesday, April 9, 2025\\n\\n### Tuesday, April 8, 2025\\n\\n### Monday, April 7, 2025\\n\\n### Friday, April 4, 2025\\n\\n### Thursday, April 3, 2025\\n\\n### Wednesday, April 2, 2025\\n\\n### Monday, March 31, 2025\\n\\n### Friday, March 28, 2025 [...] ### Thursday, March 27, 2025\\n\\n### Wednesday, March 26, 2025\\n\\n### Tuesday, March 25, 2025\\n\\n### Thursday, March 20, 2025\\n\\n### Wednesday, March 19, 2025\\n\\n### Tuesday, March 18, 2025\\n\\n## Breaking\\n\\n## Trending Topics\\n\\n## Strange & Offbeat\\n\\nStay informed with ScienceDaily's free email newsletter, updated daily and weekly. Or view our many newsfeeds in your RSS reader:\\n\\nKeep up to date with the latest news from ScienceDaily via social networks:\", \"score\": 0.76300776}, {\"title\": \"AI News | Latest AI News, Analysis & Events\", \"url\": \"https://www.artificialintelligence-news.com/\", \"content\": \"Google's open MedGemma AI models could transform healthcare. Paintbrush as Tencent introduces a new benchmark, ArtifactsBench, that aims to fix current problems.\", \"score\": 0.6793707}, {\"title\": \"The Top Artificial Intelligence Trends - IBM\", \"url\": \"https://www.ibm.com/think/insights/artificial-intelligence-trends\", \"content\": \"In response, many projects are actively pursuing defensive measures. One open source project, Anubis, forces bots to solve computation puzzles before gaining access. Another, Nepenthes, sends AI crawlers down an “infinite maze.” Cloudflare, a prominent web infrastructure provider, recently launched a feature they call “AI Labyrinth,” which uses a similar (albeit less aggressive) approach. Wikimedia is marshaling a new initiative, WE5: Responsible Use of Infrastructure, aimed at a structural [...] Late in 2024, Microsoft AI CEO Mustafa Suleyman penned a blog post declaring his company’s goal of “creating an AI companion for everyone.” In a recent podcast interview, Meta CEO Mark Zuckerberg proposed “AI friends” as a solution to the nation’s loneliness epidemic.10 An expanding array of startups are rolling out AI coworkers. [...] For now, the solution is “hybrid reasoning models.” In February, IBM Granite 3.2 became the first LLM to offer a toggleable “thinking” mode, allowing users to leverage reasoning when they need it and prioritize efficiency when they don’t.3 Anthropic’s Claude 3.7 Sonnet followed suit later that month, adding the ability for API users to have fine-grained control over how long the model “thinks” for.4 Google introduced a similar “thinking” modularity function for Gemini 2.5 Flash.5 Alibaba’s\", \"score\": 0.6108487}, {\"title\": \"Biggest AI EXPO | by Vishal Sachdeva | Jul, 2025 | Medium - Medium\", \"url\": \"https://medium.com/@vishalsachdeva_82400/biggest-ai-expo-latest-developments-in-artificial-intelligence-as-of-july-18-2025-based-on-ce148ee8971c\", \"content\": \"2. Industry & Chip Manufacturing Growth   \\n - TSMC raises 2025 revenue forecast to 30% growth (up from mid-20%), signaling robust AI chip demand from tech giants like Meta and Google for data center expansion.   \\n - IBM’s new AI security and governance tools : First unified software for AI risk management, addressing security fragmentation (average company uses 83 security tools). [...] 4. Enterprise AI Adoption Trends   \\n - Digital transformation is critical for AI success : Companies must overhaul data ecosystems and workflows to avoid \\\"putting a sports car engine into a tricycle\\\" (Reynaldo Lugtu, BWorld Online).   \\n - IBM’s recent implementations :   \\n - Generative AI contact centers for Nedgia Gas using virtual agents.   \\n - L’Oréal collaboration to optimize sustainable cosmetics formulation.   \\n - Deutsche Telekom adopting IBM’s AI-powered security orchestration. [...] 1. Upcoming AI Expo 2025 in Manila (July 19)   \\n - Hosted by De La Salle University’s Industrial Management Engineering Society, this event focuses on AI as an \\\"ally\\\" in education and industry.   \\n - Features speakers on workforce augmentation (Allan Tan), ethical AI (Carla Joy Haboc), and AI-driven supply chain optimization (Fleire Castro).   \\n - Includes a debut AI Case Competition judged by industry experts, where teams design human-creativity enhancement tools.\", \"score\": 0.56575525}]\n",
      "=================================\u001b[1m Tool Message \u001b[0m=================================\n",
      "Name: multiply\n",
      "\n",
      "20\n",
      "==================================\u001b[1m Ai Message \u001b[0m==================================\n",
      "\n",
      "Here's a summary of today's AI news and the multiplication result:\n",
      "\n",
      "**AI News Highlights (May 2025):**\n",
      "1. **Anthropic** tightened usage limits for Claude Code without user notification\n",
      "2. **ParadeDB** is competing with Elasticsearch as Postgres gains AI-driven popularity\n",
      "3. **xAI** fixed problematic responses in Grok 4\n",
      "4. **Nextdoor** added AI recommendations and real-time emergency alerts in app redesign\n",
      "5. **Mira Murati's** new Thinking Machines Lab valued at $12B\n",
      "6. **Google** added AI summaries to Discover, threatening publisher traffic\n",
      "7. **Mistral AI** released Voxtral, their first open source audio model\n",
      "8. **IBM** introduced hybrid reasoning models (Granite 3.2) for efficient AI computation\n",
      "9. **TSMC** raised 2025 revenue forecast to 30% growth due to AI chip demand\n",
      "10. **AI Expo 2025** in Manila focuses on workforce augmentation and ethical AI\n",
      "\n",
      "**Multiplication Result:**  \n",
      "5 × 4 = 20\n",
      "\n",
      "Sources: [TechCrunch AI News](https://techcrunch.com/category/artificial-intelligence/) | [ScienceDaily Archive](https://www.sciencedaily.com/news/computers_math/artificial_intelligence/) | [AI Industry Trends](https://www.ibm.com/think/insights/artificial-intelligence-trends)\n"
     ]
    }
   ],
   "source": [
    "\n",
    "messages = graph.invoke({\"messages\": HumanMessage(content='Ai news today and also multiply 5 and 4')})\n",
    "for i in messages['messages']:\n",
    "    i.pretty_print()"
   ]
  },
  {
   "cell_type": "markdown",
   "id": "ad2f61ed",
   "metadata": {},
   "source": [
    "## Adding memeory"
   ]
  },
  {
   "cell_type": "code",
   "execution_count": 68,
   "id": "756b08cd",
   "metadata": {},
   "outputs": [],
   "source": [
    "from langgraph.checkpoint.memory import MemorySaver\n",
    "\n",
    "memory = MemorySaver()\n",
    "graph = builder.compile(checkpointer=memory)"
   ]
  },
  {
   "cell_type": "code",
   "execution_count": 75,
   "id": "656d78bb",
   "metadata": {},
   "outputs": [
    {
     "data": {
      "text/plain": [
       "{'messages': [HumanMessage(content='my name is vai', additional_kwargs={}, response_metadata={}, id='e954302b-83e3-4faf-ac6a-3661e5353502'),\n",
       "  AIMessage(content='Hello, Vai! How can I assist you today?', additional_kwargs={'reasoning_content': 'Okay, the user said, \"my name is vai.\" Let me think about how to respond. First, I need to acknowledge their introduction. Since they provided their name, a simple and friendly response would be best. I don\\'t need to use any of the tools here because there\\'s no query or request for information. The user is just introducing themselves, so there\\'s no need to call functions like wikipedia, arxiv, or tavily_search. The multiply function is also irrelevant here. I should just greet them back and offer assistance. Something like, \"Hello, Vai! How can I assist you today?\" That should cover it without needing any tool calls.\\n'}, response_metadata={'token_usage': {'completion_tokens': 152, 'prompt_tokens': 320, 'total_tokens': 472, 'completion_time': 0.274074849, 'prompt_time': 0.01237123, 'queue_time': 0.21890153899999998, 'total_time': 0.286446079}, 'model_name': 'qwen/qwen3-32b', 'system_fingerprint': 'fp_f17c2eb555', 'service_tier': 'on_demand', 'finish_reason': 'stop', 'logprobs': None}, id='run--c244ac0f-866b-4a9f-96f9-f070466c95e9-0', usage_metadata={'input_tokens': 320, 'output_tokens': 152, 'total_tokens': 472})]}"
      ]
     },
     "execution_count": 75,
     "metadata": {},
     "output_type": "execute_result"
    }
   ],
   "source": [
    "config = {\"configurable\":{\"thread_id\":\"4\"}}\n",
    "response = graph.invoke({\"messages\":\"my name is vai\"}, config = config)\n",
    "\n",
    "response"
   ]
  },
  {
   "cell_type": "code",
   "execution_count": 76,
   "id": "0220c1af",
   "metadata": {},
   "outputs": [
    {
     "data": {
      "text/plain": [
       "{'messages': [HumanMessage(content='my name is vai', additional_kwargs={}, response_metadata={}, id='e954302b-83e3-4faf-ac6a-3661e5353502'),\n",
       "  AIMessage(content='Hello, Vai! How can I assist you today?', additional_kwargs={'reasoning_content': 'Okay, the user said, \"my name is vai.\" Let me think about how to respond. First, I need to acknowledge their introduction. Since they provided their name, a simple and friendly response would be best. I don\\'t need to use any of the tools here because there\\'s no query or request for information. The user is just introducing themselves, so there\\'s no need to call functions like wikipedia, arxiv, or tavily_search. The multiply function is also irrelevant here. I should just greet them back and offer assistance. Something like, \"Hello, Vai! How can I assist you today?\" That should cover it without needing any tool calls.\\n'}, response_metadata={'token_usage': {'completion_tokens': 152, 'prompt_tokens': 320, 'total_tokens': 472, 'completion_time': 0.274074849, 'prompt_time': 0.01237123, 'queue_time': 0.21890153899999998, 'total_time': 0.286446079}, 'model_name': 'qwen/qwen3-32b', 'system_fingerprint': 'fp_f17c2eb555', 'service_tier': 'on_demand', 'finish_reason': 'stop', 'logprobs': None}, id='run--c244ac0f-866b-4a9f-96f9-f070466c95e9-0', usage_metadata={'input_tokens': 320, 'output_tokens': 152, 'total_tokens': 472}),\n",
       "  HumanMessage(content='what is my name?', additional_kwargs={}, response_metadata={}, id='5c5b4c82-e75c-4014-a580-498a451996b3'),\n",
       "  AIMessage(content=\"Your name is Vai. Let me know if there's anything else I can help with!\", additional_kwargs={'reasoning_content': 'Okay, the user is asking, \"what is my name?\" Let me check the conversation history. In the previous message, the user introduced themselves as \"vai\". So, the name should be Vai. I need to confirm if there\\'s any other context or if they might have mentioned a different name. But looking at the history, it\\'s clear they stated their name as Vai. I should respond with that. No need to call any functions here because the information is already available in the chat history. Just a straightforward answer will do.\\n'}, response_metadata={'token_usage': {'completion_tokens': 135, 'prompt_tokens': 347, 'total_tokens': 482, 'completion_time': 0.314752728, 'prompt_time': 0.014552618, 'queue_time': 0.222239039, 'total_time': 0.329305346}, 'model_name': 'qwen/qwen3-32b', 'system_fingerprint': 'fp_f17c2eb555', 'service_tier': 'on_demand', 'finish_reason': 'stop', 'logprobs': None}, id='run--99060178-1d57-4898-a1b7-4292f55a018e-0', usage_metadata={'input_tokens': 347, 'output_tokens': 135, 'total_tokens': 482})]}"
      ]
     },
     "execution_count": 76,
     "metadata": {},
     "output_type": "execute_result"
    }
   ],
   "source": [
    "response = graph.invoke({\"messages\":\"what is my name?\"}, config = config)\n",
    "\n",
    "response"
   ]
  },
  {
   "cell_type": "code",
   "execution_count": null,
   "id": "39b4988a",
   "metadata": {},
   "outputs": [],
   "source": []
  }
 ],
 "metadata": {
  "kernelspec": {
   "display_name": "env",
   "language": "python",
   "name": "python3"
  },
  "language_info": {
   "codemirror_mode": {
    "name": "ipython",
    "version": 3
   },
   "file_extension": ".py",
   "mimetype": "text/x-python",
   "name": "python",
   "nbconvert_exporter": "python",
   "pygments_lexer": "ipython3",
   "version": "3.13.0"
  }
 },
 "nbformat": 4,
 "nbformat_minor": 5
}
